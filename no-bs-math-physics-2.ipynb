{
 "cells": [
  {
   "cell_type": "markdown",
   "id": "47b9dbd5-83a2-4c35-8de5-b9403defa210",
   "metadata": {},
   "source": [
    "# No Bullshit Guide to Math and Physics, Chapter 2"
   ]
  },
  {
   "cell_type": "code",
   "execution_count": 31,
   "id": "a462318f-f35b-48e0-99a4-ef031cdc9788",
   "metadata": {},
   "outputs": [],
   "source": [
    "from util import *\n",
    "\n",
    "def to_vector(r, theta):\n",
    "    return vector([r * cos(theta), r * sin(theta)])\n",
    "\n",
    "def to_vectord(r, theta):\n",
    "    theta = radians(theta)\n",
    "    return vector([r * cos(theta), r * sin(theta)])\n",
    "\n",
    "def print_polar(vec):\n",
    "    x, y = vec\n",
    "    r = sqrt(x^2 + y^2)\n",
    "    theta = atan2(y, x) |pipe| degrees\n",
    "    # prefer positive angles\n",
    "    if theta < 0: \n",
    "        theta = 360 + theta\n",
    "    print(f'{fmt(r)}∠{fmt(theta)}°')"
   ]
  },
  {
   "cell_type": "code",
   "execution_count": 26,
   "id": "922ef24e-e62c-4d12-a986-2314198e9549",
   "metadata": {},
   "outputs": [
    {
     "name": "stdout",
     "output_type": "stream",
     "text": [
      "8.70∠16.71°\n"
     ]
    }
   ],
   "source": [
    "# Simple example\n",
    "v1 = vector((4, 0))\n",
    "v2 = to_vectord(5, 30)\n",
    "print_polar(v1 + v2)"
   ]
  },
  {
   "cell_type": "code",
   "execution_count": 29,
   "id": "f68f05c4-2b77-427e-8e5c-4bb3ca2e3aa7",
   "metadata": {},
   "outputs": [
    {
     "name": "stdout",
     "output_type": "stream",
     "text": [
      "100.00∠209.89°\n"
     ]
    }
   ],
   "source": [
    "# Vector addition example\n",
    "W = to_vectord(300, -90)\n",
    "N = to_vectord(260, 120)\n",
    "F = to_vectord(50, 30)\n",
    "print_polar(W + N + F)"
   ]
  }
 ],
 "metadata": {
  "kernelspec": {
   "display_name": "SageMath 9.7",
   "language": "sage",
   "name": "sagemath"
  },
  "language_info": {
   "codemirror_mode": {
    "name": "ipython",
    "version": 3
   },
   "file_extension": ".py",
   "mimetype": "text/x-python",
   "name": "python",
   "nbconvert_exporter": "python",
   "pygments_lexer": "ipython3",
   "version": "3.10.6"
  }
 },
 "nbformat": 4,
 "nbformat_minor": 5
}
