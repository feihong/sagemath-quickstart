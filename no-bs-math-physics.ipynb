{
 "cells": [
  {
   "cell_type": "markdown",
   "metadata": {},
   "source": [
    "# Exercises from No Bullshit Guide to Math and Physics by Ivan Savov, Chapter 1"
   ]
  },
  {
   "cell_type": "code",
   "execution_count": 1,
   "metadata": {},
   "outputs": [],
   "source": [
    "%load_ext autoreload\n",
    "%autoreload 2"
   ]
  },
  {
   "cell_type": "code",
   "execution_count": 2,
   "metadata": {},
   "outputs": [],
   "source": [
    "from util import *"
   ]
  },
  {
   "cell_type": "code",
   "execution_count": 13,
   "metadata": {},
   "outputs": [
    {
     "name": "stdout",
     "output_type": "stream",
     "text": [
      "a) 3.16∠18.43°\n",
      "b) 2.24∠-116.57°\n",
      "c) 6.00∠-90.00°\n"
     ]
    }
   ],
   "source": [
    "# E1.31\n",
    "points = [(3,1), (-1, -2), (0, -6)]\n",
    "for i, (x, y) in enumerate(points, 97):\n",
    "    r = sqrt(x^2 + y^2)\n",
    "    theta = atan2(y, x) |pipe| degrees\n",
    "    print(f'{chr(i)}) {fmt(r)}∠{fmt(theta)}°')"
   ]
  },
  {
   "cell_type": "code",
   "execution_count": 14,
   "metadata": {},
   "outputs": [
    {
     "name": "stdout",
     "output_type": "stream",
     "text": [
      "d) (8.66, 5.00)\n",
      "e) (9.66, 2.59)\n",
      "f) (-5.00, 8.66)\n"
     ]
    }
   ],
   "source": [
    "\n",
    "points = [(10, 30), (10, -345), (10, 120)]\n",
    "for i, (r, theta) in enumerate(points, 100):\n",
    "    theta = radians(theta)\n",
    "    x = r * cos(theta)\n",
    "    y = r * sin(theta)\n",
    "    print(f'{chr(i)}) ({fmt(x)}, {fmt(y)})')"
   ]
  },
  {
   "cell_type": "code",
   "execution_count": 15,
   "metadata": {},
   "outputs": [
    {
     "data": {
      "image/png": "[encoded data removed]",
      "text/plain": [
       "Graphics object consisting of 1 graphics primitive"
      ]
     },
     "execution_count": 15,
     "metadata": {},
     "output_type": "execute_result"
    }
   ],
   "source": [
    "# E1.32\n",
    "values = [(i, 2/sin(i)) for i in srange(0.1, pi, 0.1)]\n",
    "cartesian_values = [(r*cos(theta), r*sin(theta)) for (theta, r) in values]\n",
    "list_plot(cartesian_values)\n",
    "# Answer: f(x) = 2"
   ]
  },
  {
   "cell_type": "code",
   "execution_count": 2,
   "metadata": {},
   "outputs": [
    {
     "data": {
      "text/plain": [
       "[[x == 5, y == 6, z == -3]]"
      ]
     },
     "execution_count": 2,
     "metadata": {},
     "output_type": "execute_result"
    }
   ],
   "source": [
    "# E1.37\n",
    "var('x y z')\n",
    "solve([\n",
    "  2*x + y - 4*z == 28,\n",
    "  x + y + z == 8,\n",
    "  2*x - y - 6*z == 22\n",
    "], x, y, z)"
   ]
  },
  {
   "cell_type": "code",
   "execution_count": 16,
   "metadata": {},
   "outputs": [
    {
     "name": "stdout",
     "output_type": "stream",
     "text": [
      "$53,974.14\n"
     ]
    }
   ],
   "source": [
    "# E1.39 \n",
    "# a. nominal annual interest rate of 3% compounded monthly\n",
    "principal = 40_000\n",
    "months = 10 * 12\n",
    "interest_rate = 0.03 / 12\n",
    "amount = (1 + interest_rate)^months * principal\n",
    "print(f'${fmt(amount)}')"
   ]
  },
  {
   "cell_type": "code",
   "execution_count": 17,
   "metadata": {},
   "outputs": [
    {
     "name": "stdout",
     "output_type": "stream",
     "text": [
      "$59,209.77\n"
     ]
    }
   ],
   "source": [
    "# b. effective annual interest rate of 4%\n",
    "years = 10\n",
    "interest_rate = 0.04\n",
    "amount = (1 + interest_rate)^years * principal\n",
    "print(f'${fmt(amount)}')"
   ]
  },
  {
   "cell_type": "code",
   "execution_count": 18,
   "metadata": {},
   "outputs": [
    {
     "name": "stdout",
     "output_type": "stream",
     "text": [
      "$65,948.85\n"
     ]
    }
   ],
   "source": [
    "# c. nominal interest rate of 5% with infinite compounding\n",
    "interest_rate = 0.05\n",
    "amount = exp(interest_rate)^years * principal\n",
    "print(f'${fmt(amount)}')"
   ]
  },
  {
   "cell_type": "code",
   "execution_count": 19,
   "metadata": {},
   "outputs": [
    {
     "name": "stdout",
     "output_type": "stream",
     "text": [
      "$32,563.12\n"
     ]
    }
   ],
   "source": [
    "# E1.40\n",
    "principal = 20_000\n",
    "interest_rate1 = 0.06\n",
    "amount1 = (1 + interest_rate1)^5 * principal\n",
    "interest_rate2 = 0.04\n",
    "amount2 = (1 + interest_rate2)^5 * amount1\n",
    "print(f'${fmt(amount2)}')"
   ]
  },
  {
   "cell_type": "code",
   "execution_count": 15,
   "metadata": {},
   "outputs": [
    {
     "name": "stdout",
     "output_type": "stream",
     "text": [
      "a) 2.28\n",
      "b) 1,024.00\n",
      "c) -8.37\n",
      "d) 11.00\n"
     ]
    }
   ],
   "source": [
    "# P1.4\n",
    "values = [\n",
    "    (3^3)^(1/4), \n",
    "    2^10, \n",
    "    7^(1/4) - 10, \n",
    "    1/2*ln(e^22)]\n",
    "\n",
    "for i, v in enumerate(values, 97):\n",
    "    print(f'{chr(i)}) {fmt(v)}')"
   ]
  },
  {
   "cell_type": "code",
   "execution_count": 49,
   "metadata": {},
   "outputs": [
    {
     "name": "stdout",
     "output_type": "stream",
     "text": [
      "∈ = 1.11022302462516e-16\n",
      "digits of precision = 15.95\n"
     ]
    }
   ],
   "source": [
    "# P1.23\n",
    "e = 2^(-53)\n",
    "print(f'∈ = {n(e)}')\n",
    "digits = - log(e, 10)\n",
    "printv('digits of precision', digits)"
   ]
  },
  {
   "cell_type": "code",
   "execution_count": 32,
   "metadata": {},
   "outputs": [
    {
     "name": "stdout",
     "output_type": "stream",
     "text": [
      "22.52\n"
     ]
    }
   ],
   "source": [
    "# P1.27\n",
    "ans = sqrt(26^2 - 13^2)\n",
    "printv(ans)"
   ]
  },
  {
   "cell_type": "code",
   "execution_count": 34,
   "metadata": {},
   "outputs": [
    {
     "name": "stdout",
     "output_type": "stream",
     "text": [
      "3.00\n"
     ]
    }
   ],
   "source": [
    "# P1.28\n",
    "ans = sqrt(3.33^2 - 1.44^2)\n",
    "printv(ans)"
   ]
  },
  {
   "cell_type": "code",
   "execution_count": 54,
   "metadata": {},
   "outputs": [
    {
     "name": "stdout",
     "output_type": "stream",
     "text": [
      "d = 0.57 m\n",
      "h = 373.31 m\n"
     ]
    }
   ],
   "source": [
    "# P1.31\n",
    "var('d h')\n",
    "solution = solve([\n",
    "    tand(20) == h / (1800 * d),\n",
    "    tand(25) == h / (800 + d),\n",
    "], d, h)\n",
    "for v in solution[0]:\n",
    "    printv(v.lhs(), v.rhs(), 'm')"
   ]
  },
  {
   "cell_type": "code",
   "execution_count": 55,
   "metadata": {},
   "outputs": [
    {
     "name": "stdout",
     "output_type": "stream",
     "text": [
      "x = 4,492.07 m\n"
     ]
    }
   ],
   "source": [
    "# P1.32\n",
    "ans = 2000 / tand(24)\n",
    "printv('x', ans, 'm')"
   ]
  },
  {
   "cell_type": "code",
   "execution_count": 45,
   "metadata": {},
   "outputs": [
    {
     "name": "stdout",
     "output_type": "stream",
     "text": [
      "perimeter = 6.63\n",
      "area = 3.31\n"
     ]
    }
   ],
   "source": [
    "# P1.36\n",
    "b = 2 * tand(22.5)\n",
    "P = 8 * b\n",
    "A = 8 * (1/2 * 1 * b)\n",
    "printv('perimeter', P)\n",
    "printv('area', A)"
   ]
  },
  {
   "cell_type": "code",
   "execution_count": 44,
   "metadata": {},
   "outputs": [
    {
     "name": "stdout",
     "output_type": "stream",
     "text": [
      "c = 14.72\n"
     ]
    }
   ],
   "source": [
    "# P1.37\n",
    "c = sind(75) * 10 / sind(41)\n",
    "printv('c', c)"
   ]
  },
  {
   "cell_type": "code",
   "execution_count": 40,
   "metadata": {},
   "outputs": [
    {
     "name": "stdout",
     "output_type": "stream",
     "text": [
      "B = 44.78\n",
      "C = 110.22\n",
      "c = 39.97\n"
     ]
    }
   ],
   "source": [
    "# P1.39\n",
    "A = radians(25)\n",
    "B = arcsin(5/3 * sin(A))\n",
    "C = pi - A - B\n",
    "c = sqrt(18^2 + 30^2 - 2 * 18 * 30 * cos(C))\n",
    "printv('B', degrees(B))\n",
    "printv('C', degrees(C))\n",
    "printv('c', c)"
   ]
  },
  {
   "cell_type": "code",
   "execution_count": 57,
   "metadata": {},
   "outputs": [
    {
     "name": "stdout",
     "output_type": "stream",
     "text": [
      "speed = 742.93 km/hr\n"
     ]
    }
   ],
   "source": [
    "# P1.40\n",
    "x1 = 2 / tand(30)\n",
    "x2 = 2 / tand(55)\n",
    "d = abs(x1 - x2)\n",
    "t = 10 / 3600 # convert to hours\n",
    "printv('speed', d/t, 'km/hr')"
   ]
  },
  {
   "cell_type": "code",
   "execution_count": 7,
   "metadata": {},
   "outputs": [
    {
     "name": "stdout",
     "output_type": "stream",
     "text": [
      "rise in water level = 4.22 cm\n"
     ]
    }
   ],
   "source": [
    "# P1.41\n",
    "v_initial = 1000\n",
    "h_initial = pi * 8.5^2 / v_initial\n",
    "v_sake = pi * 3.75^2 * h_initial\n",
    "v_final = v_initial + v_sake\n",
    "h_final = v_final / (pi * 8.5^2)\n",
    "printv('rise in water level', h_final - h_initial, 'cm')"
   ]
  },
  {
   "cell_type": "code",
   "execution_count": 3,
   "metadata": {},
   "outputs": [
    {
     "name": "stdout",
     "output_type": "stream",
     "text": [
      "x = 9.55\n"
     ]
    }
   ],
   "source": [
    "# P1.42\n",
    "a1 = arccos((7^2 - 8^2 - 12^2) / (-2*8*12))\n",
    "a2 = arccos((11^2 - 4^2 - 12^2) / (-2*4*12))\n",
    "x = sqrt(4^2 + 8^2 - 2*4*8*cos(a1 + a2))\n",
    "printv('x', x)"
   ]
  },
  {
   "cell_type": "code",
   "execution_count": 5,
   "metadata": {},
   "outputs": [
    {
     "name": "stdout",
     "output_type": "stream",
     "text": [
      "area = 18.85 cm\n"
     ]
    }
   ],
   "source": [
    "# P1.43\n",
    "A_big = pi * 4^2\n",
    "A_small = pi * 2^2\n",
    "A = 1/2 * (A_big - A_small)\n",
    "printv('area', A, 'cm')"
   ]
  },
  {
   "cell_type": "code",
   "execution_count": 7,
   "metadata": {},
   "outputs": [
    {
     "name": "stdout",
     "output_type": "stream",
     "text": [
      "length = 8.42 m\n"
     ]
    }
   ],
   "source": [
    "# P1.44\n",
    "w = 4 * cosd(40)\n",
    "h = 4 * sind(40)\n",
    "r = 50 / 100  # convert radius to meters\n",
    "a = 1/4 * 2 * pi * r # arc is one quarter of circumference\n",
    "printv('length', w + a + h + 2, 'm')"
   ]
  },
  {
   "cell_type": "code",
   "execution_count": 9,
   "metadata": {},
   "outputs": [
    {
     "name": "stdout",
     "output_type": "stream",
     "text": [
      "volume = 1.64 L\n"
     ]
    }
   ],
   "source": [
    "# P1.46\n",
    "V = 10.5 * 7 * 22.3  # in cm\n",
    "printv('volume', V / 1000, 'L')"
   ]
  },
  {
   "cell_type": "code",
   "execution_count": 14,
   "metadata": {},
   "outputs": [
    {
     "name": "stdout",
     "output_type": "stream",
     "text": [
      "R/r = 2.8637\n"
     ]
    }
   ],
   "source": [
    "# P1.48\n",
    "ans = 1/sind(15) - 1\n",
    "print(f'R/r = {ans.n():0.4f}')"
   ]
  },
  {
   "cell_type": "code",
   "execution_count": 20,
   "metadata": {},
   "outputs": [
    {
     "name": "stdout",
     "output_type": "stream",
     "text": [
      "volume = 300,000.00 L\n"
     ]
    }
   ],
   "source": [
    "# P1.50\n",
    "printv('volume', 20 * 10 * 1.5 * 1000, 'L')"
   ]
  },
  {
   "cell_type": "code",
   "execution_count": 21,
   "metadata": {},
   "outputs": [
    {
     "name": "stdout",
     "output_type": "stream",
     "text": [
      "volume = 315,000.00 L\n"
     ]
    }
   ],
   "source": [
    "# P1.51\n",
    "printv('volume', 15 * 6 * 5 * 1000 * 0.7, 'L')"
   ]
  },
  {
   "cell_type": "code",
   "execution_count": 24,
   "metadata": {},
   "outputs": [
    {
     "name": "stdout",
     "output_type": "stream",
     "text": [
      "distance = 6.04 cm\n"
     ]
    }
   ],
   "source": [
    "# P1.53\n",
    "w = sqrt(525) - 5\n",
    "x = (30 - w)/2\n",
    "printv('distance', x, 'cm')"
   ]
  },
  {
   "cell_type": "code",
   "execution_count": 26,
   "metadata": {},
   "outputs": [
    {
     "name": "stdout",
     "output_type": "stream",
     "text": [
      "after 10 years, you owe = 16,501.93 dollars\n"
     ]
    }
   ],
   "source": [
    "# P1.62\n",
    "principal = 5000\n",
    "interest_rate = 0.12 / 12\n",
    "months = 10 * 12\n",
    "ans = (1 + interest_rate)^months * principal\n",
    "printv('after 10 years, you owe', ans, 'dollars')"
   ]
  },
  {
   "cell_type": "code",
   "execution_count": 33,
   "metadata": {},
   "outputs": [
    {
     "data": {
      "image/png": "[encoded data removed]",
      "text/plain": [
       "Graphics object consisting of 1 graphics primitive"
      ]
     },
     "execution_count": 33,
     "metadata": {},
     "output_type": "execute_result"
    }
   ],
   "source": [
    "# P1.63\n",
    "f(x) = 100*exp(-x/2)\n",
    "values = [(x, f(x)) for x in srange(0, 12)]\n",
    "list_plot(values, color='green')"
   ]
  },
  {
   "cell_type": "code",
   "execution_count": 35,
   "metadata": {},
   "outputs": [
    {
     "data": {
      "image/png": "[encoded data removed]",
      "text/plain": [
       "Graphics object consisting of 1 graphics primitive"
      ]
     },
     "execution_count": 35,
     "metadata": {},
     "output_type": "execute_result"
    }
   ],
   "source": [
    "g(x) = 100*(1 - exp(-x/2))\n",
    "values = [(x, f(x)) for x in srange(0, 12)]\n",
    "list_plot(values, color='red')"
   ]
  },
  {
   "cell_type": "code",
   "execution_count": 38,
   "metadata": {},
   "outputs": [
    {
     "name": "stdout",
     "output_type": "stream",
     "text": [
      "half-life = 1.39 s\n"
     ]
    }
   ],
   "source": [
    "# P1.64\n",
    "printv('half-life', -ln(1/2)/0.5, 's')"
   ]
  },
  {
   "cell_type": "code",
   "execution_count": 48,
   "metadata": {},
   "outputs": [
    {
     "name": "stdout",
     "output_type": "stream",
     "text": [
      "time = 159.45 minutes\n"
     ]
    }
   ],
   "source": [
    "# P1.65\n",
    "tau = -24/ln(1/2)\n",
    "time = -tau * ln(0.01)\n",
    "printv('time', time, 'minutes')"
   ]
  },
  {
   "cell_type": "code",
   "execution_count": 55,
   "metadata": {},
   "outputs": [
    {
     "name": "stdout",
     "output_type": "stream",
     "text": [
      "after 0.01s = 15.58 V\n",
      "after 0.1s = 1.64 V\n"
     ]
    }
   ],
   "source": [
    "# P1.66\n",
    "C = 4.0e-6\n",
    "V0 = 20\n",
    "R = 10_000\n",
    "V(t) = V0 * exp(-t/(R*C))\n",
    "printv('after 0.01s', V(0.01), 'V')\n",
    "printv('after 0.1s', V(0.1), 'V')"
   ]
  }
 ],
 "metadata": {
  "kernelspec": {
   "display_name": "SageMath 9.7",
   "language": "sage",
   "name": "sagemath"
  },
  "language_info": {
   "codemirror_mode": {
    "name": "ipython",
    "version": 3
   },
   "file_extension": ".py",
   "mimetype": "text/x-python",
   "name": "python",
   "nbconvert_exporter": "python",
   "pygments_lexer": "ipython3",
   "version": "3.10.6"
  },
  "vscode": {
   "interpreter": {
    "hash": "aee8b7b246df8f9039afb4144a1f6fd8d2ca17a180786b69acc140d282b71a49"
   }
  }
 },
 "nbformat": 4,
 "nbformat_minor": 4
}
