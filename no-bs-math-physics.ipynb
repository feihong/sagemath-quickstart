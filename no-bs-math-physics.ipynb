{
 "cells": [
  {
   "cell_type": "markdown",
   "metadata": {},
   "source": [
    "# Exercises from No Bullshit Guide to Math and Physics by Ivan Savov"
   ]
  },
  {
   "cell_type": "code",
   "execution_count": 15,
   "metadata": {},
   "outputs": [],
   "source": [
    "def format(v):\n",
    "    return f'{n(v):0,.2f}'\n",
    "\n",
    "def printnum(v):\n",
    "    print(format(v))"
   ]
  },
  {
   "cell_type": "code",
   "execution_count": 14,
   "metadata": {},
   "outputs": [
    {
     "name": "stdout",
     "output_type": "stream",
     "text": [
      "a) 3.16∠18.43°\n",
      "b) 2.24∠-116.57°\n",
      "c) 6.00∠-90.00°\n"
     ]
    }
   ],
   "source": [
    "# E1.31\n",
    "points = [(3,1), (-1, -2), (0, -6)]\n",
    "for i, (x, y) in enumerate(points, 97):\n",
    "    r = sqrt(x^2 + y^2)\n",
    "    theta = atan2(y, x) * 180/pi\n",
    "    print(f'{chr(i)}) {format(r)}∠{format(theta)}°')"
   ]
  },
  {
   "cell_type": "code",
   "execution_count": 10,
   "metadata": {},
   "outputs": [
    {
     "name": "stdout",
     "output_type": "stream",
     "text": [
      "d) (8.66, 5.00)\n",
      "e) (9.66, 2.59)\n",
      "f) (-5.00, 8.66)\n"
     ]
    }
   ],
   "source": [
    "\n",
    "points = [(10, 30), (10, -345), (10, 120)]\n",
    "for i, (r, theta) in enumerate(points, 100):\n",
    "    theta = theta * pi/180 # convert to radians\n",
    "    x = r * cos(theta)\n",
    "    y = r * sin(theta)\n",
    "    print(f'{chr(i)}) ({format(x)}, {format(y)})')"
   ]
  },
  {
   "cell_type": "code",
   "execution_count": null,
   "metadata": {},
   "outputs": [
    {
     "data": {
      "image/png": "[encoded data removed]",
      "text/plain": [
       "Graphics object consisting of 1 graphics primitive"
      ]
     },
     "execution_count": 3,
     "metadata": {},
     "output_type": "execute_result"
    }
   ],
   "source": [
    "# E1.32\n",
    "values = [(i, 2/sin(i)) for i in srange(0.1, pi, 0.1)]\n",
    "cartesian_values = [(r*cos(theta), r*sin(theta)) for (theta, r) in values]\n",
    "list_plot(cartesian_values)\n",
    "# Answer: f(x) = 2"
   ]
  },
  {
   "cell_type": "code",
   "execution_count": 2,
   "metadata": {},
   "outputs": [
    {
     "data": {
      "text/plain": [
       "[[x == 5, y == 6, z == -3]]"
      ]
     },
     "execution_count": 2,
     "metadata": {},
     "output_type": "execute_result"
    }
   ],
   "source": [
    "# E1.37\n",
    "var('x y z')\n",
    "solve([\n",
    "  2*x + y - 4*z == 28,\n",
    "  x + y + z == 8,\n",
    "  2*x - y - 6*z == 22\n",
    "], x, y, z)"
   ]
  },
  {
   "cell_type": "code",
   "execution_count": 51,
   "metadata": {},
   "outputs": [
    {
     "name": "stdout",
     "output_type": "stream",
     "text": [
      "$53,974.14\n"
     ]
    }
   ],
   "source": [
    "# E1.39 \n",
    "# a. nominal annual interest rate of 3% compounded monthly\n",
    "principal = 40_000\n",
    "months = 10 * 12\n",
    "interest_rate = 0.03 / 12\n",
    "amount = (1 + interest_rate)^months * principal\n",
    "print(f'${amount:0,.2f}')"
   ]
  },
  {
   "cell_type": "code",
   "execution_count": 52,
   "metadata": {},
   "outputs": [
    {
     "name": "stdout",
     "output_type": "stream",
     "text": [
      "$59,209.77\n"
     ]
    }
   ],
   "source": [
    "# b. effective annual interest rate of 4%\n",
    "years = 10\n",
    "interest_rate = 0.04\n",
    "amount = (1 + interest_rate)^years * principal\n",
    "print(f'${amount:0,.2f}')"
   ]
  },
  {
   "cell_type": "code",
   "execution_count": 53,
   "metadata": {},
   "outputs": [
    {
     "name": "stdout",
     "output_type": "stream",
     "text": [
      "$65,948.85\n"
     ]
    }
   ],
   "source": [
    "# c. nominal interest rate of 5% with infinite compounding\n",
    "interest_rate = 0.05\n",
    "amount = exp(interest_rate)^years * principal\n",
    "print(f'${amount:0,.2f}')"
   ]
  },
  {
   "cell_type": "code",
   "execution_count": 1,
   "metadata": {},
   "outputs": [
    {
     "name": "stdout",
     "output_type": "stream",
     "text": [
      "$32,563.12\n"
     ]
    }
   ],
   "source": [
    "# E1.40\n",
    "principal = 20_000\n",
    "interest_rate1 = 0.06\n",
    "amount1 = (1 + interest_rate1)^5 * principal\n",
    "interest_rate2 = 0.04\n",
    "amount2 = (1 + interest_rate2)^5 * amount1\n",
    "print(f'${amount2:0,.2f}')"
   ]
  },
  {
   "cell_type": "code",
   "execution_count": 18,
   "metadata": {},
   "outputs": [
    {
     "name": "stdout",
     "output_type": "stream",
     "text": [
      "a) 2.28\n",
      "b) 1,024.00\n",
      "c) -8.37\n",
      "d) 11.00\n"
     ]
    }
   ],
   "source": [
    "# P1.4\n",
    "values = [(3^3)^(1/4), 2^10, 7^(1/4) - 10, 1/2*ln(e^22)]\n",
    "\n",
    "for i, v in enumerate(values, 97):\n",
    "    print(f'{chr(i)}) {format(v)}')"
   ]
  }
 ],
 "metadata": {
  "kernelspec": {
   "display_name": "SageMath 9.7",
   "language": "sage",
   "name": "sagemath"
  },
  "language_info": {
   "codemirror_mode": {
    "name": "ipython",
    "version": 3
   },
   "file_extension": ".py",
   "mimetype": "text/x-python",
   "name": "python",
   "nbconvert_exporter": "python",
   "pygments_lexer": "ipython3",
   "version": "3.10.6"
  },
  "vscode": {
   "interpreter": {
    "hash": "aee8b7b246df8f9039afb4144a1f6fd8d2ca17a180786b69acc140d282b71a49"
   }
  }
 },
 "nbformat": 4,
 "nbformat_minor": 4
}
